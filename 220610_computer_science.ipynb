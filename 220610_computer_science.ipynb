{
  "nbformat": 4,
  "nbformat_minor": 0,
  "metadata": {
    "colab": {
      "name": "220610_computer_science.ipynb",
      "provenance": [],
      "collapsed_sections": [],
      "authorship_tag": "ABX9TyOGoto8ZaBLgEApnEj83P4p",
      "include_colab_link": true
    },
    "kernelspec": {
      "name": "python3",
      "display_name": "Python 3"
    },
    "language_info": {
      "name": "python"
    }
  },
  "cells": [
    {
      "cell_type": "markdown",
      "metadata": {
        "id": "view-in-github",
        "colab_type": "text"
      },
      "source": [
        "<a href=\"https://colab.research.google.com/github/woojinhong03/school_2022_python/blob/main/220610_computer_science.ipynb\" target=\"_parent\"><img src=\"https://colab.research.google.com/assets/colab-badge.svg\" alt=\"Open In Colab\"/></a>"
      ]
    },
    {
      "cell_type": "code",
      "source": [
        "queue = []\n",
        "\n",
        "def isEmpty():\n",
        "  return len(queue) == 0\n",
        "\n",
        "def enqueue(item):\n",
        "  queue.append(item)\n",
        "\n",
        "def dequeue():\n",
        "  if not isEmpty():\n",
        "    return queue.pop()\n",
        "\n",
        "enqueue(10)\n",
        "enqueue(20)\n",
        "enqueue(30)\n",
        "\n",
        "print(dequeue())\n",
        "print(dequeue())\n",
        "print(dequeue())\n",
        "print(dequeue())"
      ],
      "metadata": {
        "colab": {
          "base_uri": "https://localhost:8080/"
        },
        "id": "HsAEVrIHJ49k",
        "outputId": "c2a362ed-f5cc-4095-b80c-f385e9d71692"
      },
      "execution_count": 8,
      "outputs": [
        {
          "output_type": "stream",
          "name": "stdout",
          "text": [
            "30\n",
            "20\n",
            "10\n",
            "None\n"
          ]
        }
      ]
    }
  ]
}