{
  "nbformat": 4,
  "nbformat_minor": 0,
  "metadata": {
    "colab": {
      "name": "220608_computer_science.ipynb",
      "provenance": [],
      "collapsed_sections": [],
      "authorship_tag": "ABX9TyPJ3qclpdUG0BmafiV89TGL",
      "include_colab_link": true
    },
    "kernelspec": {
      "name": "python3",
      "display_name": "Python 3"
    },
    "language_info": {
      "name": "python"
    }
  },
  "cells": [
    {
      "cell_type": "markdown",
      "metadata": {
        "id": "view-in-github",
        "colab_type": "text"
      },
      "source": [
        "<a href=\"https://colab.research.google.com/github/woojinhong03/school_2022_python/blob/main/220608_computer_science.ipynb\" target=\"_parent\"><img src=\"https://colab.research.google.com/assets/colab-badge.svg\" alt=\"Open In Colab\"/></a>"
      ]
    },
    {
      "cell_type": "code",
      "execution_count": 1,
      "metadata": {
        "colab": {
          "base_uri": "https://localhost:8080/"
        },
        "id": "XeNTxEWuurqW",
        "outputId": "98eb59c9-f674-4d32-b716-0734762b7a11"
      },
      "outputs": [
        {
          "output_type": "stream",
          "name": "stdout",
          "text": [
            "10\n",
            "21\n",
            "30\n",
            "40\n",
            "50\n",
            "60\n",
            "70\n"
          ]
        }
      ],
      "source": [
        "arr = [10,20,30,40,50,60,70]\n",
        "arr[1] = 21\n",
        "for i in arr:\n",
        "  print(i)"
      ]
    },
    {
      "cell_type": "code",
      "source": [
        "a = [10,30,50,70]\n",
        "a.append(80)\n",
        "\n",
        "print(a)"
      ],
      "metadata": {
        "colab": {
          "base_uri": "https://localhost:8080/"
        },
        "id": "_r4EV9jN2hR1",
        "outputId": "905d4a8b-a0e8-490a-fcd9-8a045edbc950"
      },
      "execution_count": 2,
      "outputs": [
        {
          "output_type": "stream",
          "name": "stdout",
          "text": [
            "[10, 30, 50, 70, 80]\n"
          ]
        }
      ]
    },
    {
      "cell_type": "code",
      "source": [
        "a.insert(1,25)\n",
        "print(a)"
      ],
      "metadata": {
        "colab": {
          "base_uri": "https://localhost:8080/"
        },
        "id": "xaPuNHeh5XwL",
        "outputId": "19676fe7-c32f-4f4e-f3e9-4683297527d6"
      },
      "execution_count": 3,
      "outputs": [
        {
          "output_type": "stream",
          "name": "stdout",
          "text": [
            "[10, 25, 30, 50, 70, 80]\n"
          ]
        }
      ]
    },
    {
      "cell_type": "code",
      "source": [
        "a.remove(50)\n",
        "print(a)"
      ],
      "metadata": {
        "colab": {
          "base_uri": "https://localhost:8080/"
        },
        "id": "_i8Y0qWm5fkF",
        "outputId": "87e7d1bb-4e2a-4372-9b81-29329a500fd1"
      },
      "execution_count": 4,
      "outputs": [
        {
          "output_type": "stream",
          "name": "stdout",
          "text": [
            "[10, 25, 30, 70, 80]\n"
          ]
        }
      ]
    },
    {
      "cell_type": "code",
      "source": [
        "print(a.pop())\n",
        "print(a)"
      ],
      "metadata": {
        "colab": {
          "base_uri": "https://localhost:8080/"
        },
        "id": "ioD4mmM95zcn",
        "outputId": "5e0ac320-466d-4d03-8fc9-3c6028e4484d"
      },
      "execution_count": 5,
      "outputs": [
        {
          "output_type": "stream",
          "name": "stdout",
          "text": [
            "80\n",
            "[10, 25, 30, 70]\n"
          ]
        }
      ]
    },
    {
      "cell_type": "code",
      "source": [
        "print(a.pop(0))\n",
        "print(a)"
      ],
      "metadata": {
        "colab": {
          "base_uri": "https://localhost:8080/"
        },
        "id": "UWnMjIGr599m",
        "outputId": "7e42c14d-9e2f-48f1-8163-05ea7ee1e665"
      },
      "execution_count": 16,
      "outputs": [
        {
          "output_type": "stream",
          "name": "stdout",
          "text": [
            "(1, '너는')\n",
            "[(2, '어떻게'), (3, '이토록'), (4, '날'), (5, '웃게'), (6, '하는지')]\n"
          ]
        }
      ]
    },
    {
      "cell_type": "code",
      "source": [
        "s = []\n",
        "\n",
        "def check():\n",
        "  return len(s) == 0\n",
        "\n",
        "def push(item):\n",
        "  s.append(item)\n",
        "\n",
        "def pop():\n",
        "  if not check():\n",
        "    return s.pop()\n",
        "  else:\n",
        "    print(\"empty\")\n",
        "\n",
        "push(10)\n",
        "push(20)\n",
        "push(30)\n",
        "\n",
        "print(pop())\n",
        "print(pop())\n",
        "print(pop())\n",
        "print(pop())"
      ],
      "metadata": {
        "colab": {
          "base_uri": "https://localhost:8080/"
        },
        "id": "-WyJr1JaF0rb",
        "outputId": "e7753272-9bec-4108-8e5d-899e76897fcf"
      },
      "execution_count": 25,
      "outputs": [
        {
          "output_type": "stream",
          "name": "stdout",
          "text": [
            "30\n",
            "20\n",
            "10\n",
            "empty\n",
            "None\n"
          ]
        }
      ]
    }
  ]
}